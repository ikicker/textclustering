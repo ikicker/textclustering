{
 "cells": [
  {
   "cell_type": "code",
   "execution_count": 181,
   "metadata": {},
   "outputs": [
    {
     "name": "stdout",
     "output_type": "stream",
     "text": [
      "Top terms per cluster:\n",
      "Cluster 0:\n",
      " nan\n",
      " nudity\n",
      " police\n",
      " female\n",
      " school\n",
      " murder\n",
      " death\n",
      " male\n",
      " sex\n",
      " new\n",
      "Cluster 1:\n",
      " friend\n",
      " film\n",
      " best\n",
      " cult\n",
      " independent\n",
      " school\n",
      " friendship\n",
      " christian\n",
      " sex\n",
      " party\n",
      "Cluster 2:\n",
      " war\n",
      " blood\n",
      " island\n",
      " soldier\n",
      " splatter\n",
      " world\n",
      " civil\n",
      " vampire\n",
      " hero\n",
      " scientist\n",
      "Cluster 3:\n",
      " love\n",
      " school\n",
      " friend\n",
      " marriage\n",
      " friendship\n",
      " new\n",
      " york\n",
      " death\n",
      " sex\n",
      " high\n",
      "Cluster 4:\n",
      " title\n",
      " word\n",
      " directed\n",
      " female\n",
      " character\n",
      " number\n",
      " punctuation\n",
      " based\n",
      " city\n",
      " color\n"
     ]
    }
   ],
   "source": [
    "#https://nlpforhackers.io/recipe-text-clustering/\n",
    "#https://pythonprogramminglanguage.com/kmeans-text-clustering/\n",
    "\n",
    "from sklearn.feature_extraction.text import TfidfVectorizer\n",
    "from sklearn.cluster import KMeans\n",
    "from sklearn.metrics import adjusted_rand_score\n",
    "import numpy as np\n",
    "import pandas as pd\n",
    "\n",
    "#import data\n",
    "data = pd.read_excel(\"~/Documents/Data Science Case Study/movie_metadata.xls\", sheet_name=\"movie_metadata\", header=0)\n",
    "df = pd.DataFrame(data, columns=data.columns)\n",
    "\n",
    "data.drop(df.index, inplace=True)\n",
    "\n",
    "documents = df['plot_keywords']\n",
    "vectorizer = TfidfVectorizer(stop_words='english')\n",
    "vectorizer.fit_transform(documents.astype('U'))\n",
    "\n",
    "true_k = 5\n",
    "model = KMeans(n_clusters=true_k, init='k-means++', max_iter=10000, n_init=1)\n",
    "model.fit(X)\n",
    "\n",
    "print(\"Top terms per cluster:\")\n",
    "order_centroids = model.cluster_centers_.argsort()[:, ::-1]\n",
    "terms = vectorizer.get_feature_names()\n",
    "for i in range(true_k):\n",
    "    print(\"Cluster %d:\" % i),\n",
    "    for ind in order_centroids[i, :10]:\n",
    "        print(' %s' % terms[ind]),\n",
    "    print"
   ]
  },
  {
   "cell_type": "code",
   "execution_count": 182,
   "metadata": {},
   "outputs": [],
   "source": [
    "Y = vectorizer.transform(df['plot_keywords'].astype('U'))\n",
    "prediction = model.predict(Y)\n",
    "df_tmp = np.concatenate([df, pd.DataFrame(np.transpose(prediction.astype(np.int32)), columns=['cluster_plot_keywords'])], axis=1)\n",
    "\n",
    "headers = np.concatenate([df.columns, ['cluster_plot_keywoards']])\n",
    "#!!!this is where the error is, caused by the np.concatenate!!!\n",
    "df = pd.DataFrame(df_tmp, columns=[headers])\n"
   ]
  },
  {
   "cell_type": "code",
   "execution_count": 183,
   "metadata": {},
   "outputs": [
    {
     "data": {
      "text/plain": [
       "array([('color',), ('director_name',), ('num_critic_for_reviews',),\n",
       "       ('duration',), ('director_facebook_likes',),\n",
       "       ('actor_3_facebook_likes',), ('actor_2_name',),\n",
       "       ('actor_1_facebook_likes',), ('gross',), ('genres',),\n",
       "       ('actor_1_name',), ('movie_title',), ('num_voted_users',),\n",
       "       ('cast_total_facebook_likes',), ('actor_3_name',),\n",
       "       ('facenumber_in_poster',), ('plot_keywords',),\n",
       "       ('num_user_for_reviews',), ('language',), ('country',),\n",
       "       ('content_rating',), ('budget',), ('title_year',),\n",
       "       ('actor_2_facebook_likes',), ('movie_score',), ('aspect_ratio',),\n",
       "       ('movie_facebook_likes',), ('cluster_plot_keywoards',)],\n",
       "      dtype=object)"
      ]
     },
     "execution_count": 183,
     "metadata": {},
     "output_type": "execute_result"
    }
   ],
   "source": [
    "df.columns.values"
   ]
  },
  {
   "cell_type": "code",
   "execution_count": 1,
   "metadata": {},
   "outputs": [],
   "source": []
  },
  {
   "cell_type": "code",
   "execution_count": null,
   "metadata": {},
   "outputs": [],
   "source": []
  }
 ],
 "metadata": {
  "hide_input": false,
  "kernelspec": {
   "display_name": "Python 3",
   "language": "python",
   "name": "python3"
  },
  "language_info": {
   "codemirror_mode": {
    "name": "ipython",
    "version": 3
   },
   "file_extension": ".py",
   "mimetype": "text/x-python",
   "name": "python",
   "nbconvert_exporter": "python",
   "pygments_lexer": "ipython3",
   "version": "3.7.4"
  },
  "latex_envs": {
   "LaTeX_envs_menu_present": true,
   "autoclose": false,
   "autocomplete": true,
   "bibliofile": "biblio.bib",
   "cite_by": "apalike",
   "current_citInitial": 1,
   "eqLabelWithNumbers": true,
   "eqNumInitial": 1,
   "hotkeys": {
    "equation": "Ctrl-E",
    "itemize": "Ctrl-I"
   },
   "labels_anchors": false,
   "latex_user_defs": false,
   "report_style_numbering": false,
   "user_envs_cfg": false
  },
  "toc": {
   "base_numbering": 1,
   "nav_menu": {},
   "number_sections": true,
   "sideBar": true,
   "skip_h1_title": false,
   "title_cell": "Table of Contents",
   "title_sidebar": "Contents",
   "toc_cell": false,
   "toc_position": {},
   "toc_section_display": true,
   "toc_window_display": false
  }
 },
 "nbformat": 4,
 "nbformat_minor": 2
}
